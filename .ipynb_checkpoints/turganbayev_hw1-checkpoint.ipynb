{
 "cells": [
  {
   "cell_type": "markdown",
   "metadata": {},
   "source": [
    "**Общая информация**\n",
    "\n",
    "**Срок сдачи:** 18 октября 2017, 06:00 <br\\>\n",
    "**Штраф за опоздание:** -2 балла после 06:00 18 октября, -4 балла после 06:00 25 октября, -6 баллов после 06:00 1 ноября\n",
    "\n",
    "При отправлении ДЗ указывайте фамилию в названии файла\n",
    "Присылать ДЗ необходимо в виде ссылки на свой github репозиторий в slack @alkhamush\n",
    "\n",
    "Необходимо в slack создать таск в приватный чат:\n",
    "/todo Фамилия Имя ссылка на гитхаб @alkhamush\n",
    "Пример:\n",
    "/todo Ксения Стройкова https://github.com/stroykova/spheremailru/stroykova_hw1.ipynb @alkhamush\n",
    "Дополнительно нужно просто скинуть ссылку в slack в личный чат\n",
    "\n",
    "Используйте данный Ipython Notebook при оформлении домашнего задания."
   ]
  },
  {
   "cell_type": "markdown",
   "metadata": {},
   "source": [
    "###### Задание 1 (2 баллов)\n",
    "Реализовать KNN в классе MyKNeighborsClassifier (обязательное условие: точность не ниже sklearn реализации)\n",
    "Разберитесь самостоятельно, какая мера расстояния используется в KNeighborsClassifier дефолтно и реализуйте свой алгоритм именно с этой мерой. Самостоятельно разберитесь, как считается score из KNeighborsClassifier и реализуйте аналог в своём классе. Score не должен уступать значению KNN из sklearn\n",
    "\n",
    "###### Задание 2 (2 балла)\n",
    "Добиться скорости работы на fit,  predict и predict_proba сравнимой со sklearn для iris и mnist\n",
    "Для этого используем numpy\n",
    "\n",
    "###### Задание 3 (2 балла)\n",
    "Для iris найдите такой параметр n_neighbors, при котором выдаётся наилучший score. Нарисуйте график зависимости score от n_neighbors\n",
    "\n",
    "###### Задание 4 (3 балла)\n",
    "Добавить algorithm='kd_tree' в реализацию KNN (использовать KDTree из sklearn.neighbors). Значение n_neighbors нужно взять из задания 3. Добиться скорости работы на fit,  predict и predict_proba сравнимой со sklearn для iris и mnist\n",
    "Для этого используем numpy. Score не должен уступать значению KNN из sklearn\n",
    "\n",
    "###### Задание 5 (1 балла)\n",
    "Описать для чего нужны следующие библиотеки/классы/функции (список будет ниже)\n",
    "\n",
    "**Штрафные баллы:**\n",
    "\n",
    "1. Невыполнение PEP8 -1 балл\n",
    "2. Отсутствие фамилии в имени скрипта (скрипт должен называться по аналогии со stroykova_hw1.ipynb) -1 балл\n",
    "3. Все строчки должны быть выполнены. Нужно, чтобы output команды можно было увидеть уже в git'е. В противном случае -1 балл\n",
    "4. При оформлении ДЗ нужно пользоваться данным файлом в качестве шаблона. Не нужно удалять и видоизменять структуру кода и текст. В противном случае -1 балл\n"
   ]
  },
  {
   "cell_type": "code",
   "execution_count": 1,
   "metadata": {},
   "outputs": [],
   "source": [
    "import numpy as np\n",
    "from scipy import stats\n",
    "import matplotlib.pyplot as plt\n",
    "\n",
    "import seaborn as sns\n",
    "import sklearn\n",
    "from sklearn import datasets\n",
    "from sklearn.base import ClassifierMixin\n",
    "from sklearn.datasets import fetch_mldata\n",
    "from sklearn.neighbors.base import NeighborsBase, KNeighborsMixin, SupervisedIntegerMixin \n",
    "from sklearn.model_selection import train_test_split\n",
    "from sklearn.neighbors import KNeighborsClassifier\n",
    "from sklearn.neighbors import KDTree\n",
    "%load_ext pycodestyle_magic"
   ]
  },
  {
   "cell_type": "code",
   "execution_count": 8,
   "metadata": {},
   "outputs": [],
   "source": [
    "%%pycodestyle\n",
    "\n",
    "\n",
    "class MyKNeighborsClassifier(NeighborsBase, KNeighborsMixin,\n",
    "                             SupervisedIntegerMixin, ClassifierMixin):\n",
    "    def __init__(self, n_neighbors, algorithm='brute'):\n",
    "        self.n_neighbors = n_neighbors\n",
    "        self.algorithm = algorithm\n",
    "\n",
    "    def _kneighbors_brute(self, X):\n",
    "        neighbors = np.zeros((X.shape[0], self.X_train.shape[0]))\n",
    "        k = self.n_neighbors\n",
    "        neighbors = sklearn.metrics.pairwise_distances(X=X, Y=self.X_train)\n",
    "        k_ind = neighbors.argpartition(self.n_neighbors)[:, :self.n_neighbors]\n",
    "        k_dist = neighbors[:, k_ind]\n",
    "        return k_dist, k_ind\n",
    "\n",
    "    def _kneighbors(self, X):\n",
    "        if self.algorithm == 'brute':\n",
    "            k_dist, k_ind = self._kneighbors_brute(X)\n",
    "        elif self.algorithm == 'kd_tree':\n",
    "            k_dist, k_ind = self.tree.query(X, k=self.n_neighbors)\n",
    "        return k_dist, k_ind\n",
    "\n",
    "    def fit(self, X, y):\n",
    "        if self.algorithm == 'brute':\n",
    "            self.X_train = X\n",
    "            self.y_train = y\n",
    "        elif self.algorithm == 'kd_tree':\n",
    "            self.tree = KDTree(X)\n",
    "            self.y_train = y\n",
    "        else:\n",
    "            raise ValueError(\"Unsupported algorithm\")\n",
    "        self.classes = np.unique(y)\n",
    "\n",
    "    def predict(self, X):\n",
    "        predictions = np.zeros(X.shape[0], dtype=int)\n",
    "        k_dist, k_ind = self._kneighbors(X)\n",
    "        for sample_idx, sample in enumerate(k_ind):\n",
    "            predictions[sample_idx] = stats.mode(\n",
    "                                    self.y_train[np.array(sample)]\n",
    "                                    ).mode[0]\n",
    "        return predictions\n",
    "\n",
    "    def predict_proba(self, X):\n",
    "        predictions = np.zeros(X.shape[0], dtype=int)\n",
    "        k_dist, k_ind = self._kneighbors(X)\n",
    "        neighbors_classes = self.y_train[k_ind].astype(int)\n",
    "        probas = np.zeros((X.shape[0], self.classes.shape[0]))\n",
    "        for i in range(neighbors_classes.shape[0]):\n",
    "            for j in neighbors_classes[i]:\n",
    "                probas[i][j] += 1\n",
    "        probas /= self.n_neighbors\n",
    "        return probas\n",
    "\n",
    "    def score(self, X, y):\n",
    "        y_true, y_pred = y, self.predict(X)\n",
    "        score = y_true == y_pred\n",
    "        return np.average(score)\n"
   ]
  },
  {
   "cell_type": "markdown",
   "metadata": {},
   "source": [
    "**IRIS**"
   ]
  },
  {
   "cell_type": "code",
   "execution_count": 9,
   "metadata": {},
   "outputs": [],
   "source": [
    "iris = datasets.load_iris()"
   ]
  },
  {
   "cell_type": "code",
   "execution_count": 10,
   "metadata": {},
   "outputs": [],
   "source": [
    "X_train, X_test, y_train, y_test = train_test_split(iris.data, iris.target, test_size=0.1, stratify=iris.target)"
   ]
  },
  {
   "cell_type": "code",
   "execution_count": 11,
   "metadata": {},
   "outputs": [],
   "source": [
    "clf = KNeighborsClassifier(n_neighbors=2, algorithm='brute')\n",
    "my_clf = MyKNeighborsClassifier(n_neighbors=2, algorithm='brute')"
   ]
  },
  {
   "cell_type": "code",
   "execution_count": 12,
   "metadata": {},
   "outputs": [
    {
     "name": "stdout",
     "output_type": "stream",
     "text": [
      "CPU times: user 988 µs, sys: 145 µs, total: 1.13 ms\n",
      "Wall time: 906 µs\n"
     ]
    },
    {
     "data": {
      "text/plain": [
       "KNeighborsClassifier(algorithm='brute', leaf_size=30, metric='minkowski',\n",
       "           metric_params=None, n_jobs=1, n_neighbors=2, p=2,\n",
       "           weights='uniform')"
      ]
     },
     "execution_count": 12,
     "metadata": {},
     "output_type": "execute_result"
    }
   ],
   "source": [
    "%time clf.fit(X_train, y_train)"
   ]
  },
  {
   "cell_type": "code",
   "execution_count": 13,
   "metadata": {},
   "outputs": [
    {
     "name": "stdout",
     "output_type": "stream",
     "text": [
      "CPU times: user 612 µs, sys: 90 µs, total: 702 µs\n",
      "Wall time: 489 µs\n"
     ]
    }
   ],
   "source": [
    "%time my_clf.fit(X_train, y_train)"
   ]
  },
  {
   "cell_type": "code",
   "execution_count": 14,
   "metadata": {},
   "outputs": [
    {
     "name": "stdout",
     "output_type": "stream",
     "text": [
      "CPU times: user 8.75 ms, sys: 691 µs, total: 9.44 ms\n",
      "Wall time: 311 ms\n"
     ]
    },
    {
     "data": {
      "text/plain": [
       "array([0, 2, 1, 1, 2, 2, 1, 2, 1, 0, 1, 1, 0, 0, 0])"
      ]
     },
     "execution_count": 14,
     "metadata": {},
     "output_type": "execute_result"
    }
   ],
   "source": [
    "%time clf.predict(X_test)"
   ]
  },
  {
   "cell_type": "code",
   "execution_count": 15,
   "metadata": {},
   "outputs": [
    {
     "name": "stdout",
     "output_type": "stream",
     "text": [
      "CPU times: user 282 µs, sys: 4.09 ms, total: 4.37 ms\n",
      "Wall time: 3.62 ms\n"
     ]
    },
    {
     "data": {
      "text/plain": [
       "array([0, 2, 1, 1, 2, 2, 1, 2, 1, 0, 1, 1, 0, 0, 0])"
      ]
     },
     "execution_count": 15,
     "metadata": {},
     "output_type": "execute_result"
    }
   ],
   "source": [
    "%time my_clf.predict(X_test)"
   ]
  },
  {
   "cell_type": "code",
   "execution_count": 16,
   "metadata": {},
   "outputs": [
    {
     "name": "stdout",
     "output_type": "stream",
     "text": [
      "CPU times: user 1.8 ms, sys: 0 ns, total: 1.8 ms\n",
      "Wall time: 1.27 ms\n"
     ]
    },
    {
     "data": {
      "text/plain": [
       "array([[1., 0., 0.],\n",
       "       [0., 0., 1.],\n",
       "       [0., 1., 0.],\n",
       "       [0., 1., 0.],\n",
       "       [0., 0., 1.],\n",
       "       [0., 0., 1.],\n",
       "       [0., 1., 0.],\n",
       "       [0., 0., 1.],\n",
       "       [0., 1., 0.],\n",
       "       [1., 0., 0.],\n",
       "       [0., 1., 0.],\n",
       "       [0., 1., 0.],\n",
       "       [1., 0., 0.],\n",
       "       [1., 0., 0.],\n",
       "       [1., 0., 0.]])"
      ]
     },
     "execution_count": 16,
     "metadata": {},
     "output_type": "execute_result"
    }
   ],
   "source": [
    "%time clf.predict_proba(X_test)"
   ]
  },
  {
   "cell_type": "code",
   "execution_count": 17,
   "metadata": {},
   "outputs": [
    {
     "name": "stdout",
     "output_type": "stream",
     "text": [
      "CPU times: user 1.29 ms, sys: 188 µs, total: 1.47 ms\n",
      "Wall time: 1.01 ms\n"
     ]
    },
    {
     "data": {
      "text/plain": [
       "array([[1., 0., 0.],\n",
       "       [0., 0., 1.],\n",
       "       [0., 1., 0.],\n",
       "       [0., 1., 0.],\n",
       "       [0., 0., 1.],\n",
       "       [0., 0., 1.],\n",
       "       [0., 1., 0.],\n",
       "       [0., 0., 1.],\n",
       "       [0., 1., 0.],\n",
       "       [1., 0., 0.],\n",
       "       [0., 1., 0.],\n",
       "       [0., 1., 0.],\n",
       "       [1., 0., 0.],\n",
       "       [1., 0., 0.],\n",
       "       [1., 0., 0.]])"
      ]
     },
     "execution_count": 17,
     "metadata": {},
     "output_type": "execute_result"
    }
   ],
   "source": [
    "%time my_clf.predict_proba(X_test)"
   ]
  },
  {
   "cell_type": "code",
   "execution_count": 18,
   "metadata": {},
   "outputs": [
    {
     "data": {
      "text/plain": [
       "0.9333333333333333"
      ]
     },
     "execution_count": 18,
     "metadata": {},
     "output_type": "execute_result"
    }
   ],
   "source": [
    "clf.score(X_test, y_test)"
   ]
  },
  {
   "cell_type": "code",
   "execution_count": 19,
   "metadata": {},
   "outputs": [
    {
     "data": {
      "text/plain": [
       "0.9333333333333333"
      ]
     },
     "execution_count": 19,
     "metadata": {},
     "output_type": "execute_result"
    }
   ],
   "source": [
    "my_clf.score(X_test, y_test)"
   ]
  },
  {
   "cell_type": "markdown",
   "metadata": {},
   "source": [
    "Задание 3"
   ]
  },
  {
   "cell_type": "code",
   "execution_count": 20,
   "metadata": {},
   "outputs": [],
   "source": [
    "#%%pycodestyle\n",
    "from sklearn.model_selection import cross_val_score\n",
    "\n",
    "\n",
    "def calculate_scores(knn_classifier, n_neighbors, X, y, cv):\n",
    "    result = []\n",
    "    for n in n_neighbors:\n",
    "        knn_classifier.n_neighbors = n\n",
    "        scores = cross_val_score(my_clf, X, y, cv=10)\n",
    "        result.append(scores.mean())\n",
    "    return np.array(result)"
   ]
  },
  {
   "cell_type": "code",
   "execution_count": 21,
   "metadata": {},
   "outputs": [],
   "source": [
    "n_neighbors = np.arange(1, 30)\n",
    "scores = calculate_scores(my_clf, n_neighbors, iris.data, iris.target, cv=10)"
   ]
  },
  {
   "cell_type": "code",
   "execution_count": 46,
   "metadata": {},
   "outputs": [
    {
     "data": {
      "image/png": "[encoded data removed]",
      "text/plain": [
       "<Figure size 720x360 with 1 Axes>"
      ]
     },
     "metadata": {},
     "output_type": "display_data"
    },
    {
     "name": "stdout",
     "output_type": "stream",
     "text": [
      "Параметр n_neighbors, при котором выдаётся наилучший score = 13\n"
     ]
    }
   ],
   "source": [
    "%matplotlib inline\n",
    "import matplotlib\n",
    "import matplotlib.pyplot as plt\n",
    "matplotlib.rc('xtick', labelsize=10)\n",
    "matplotlib.rc('ytick', labelsize=10)\n",
    "matplotlib.rcParams.update({'font.size': 10})\n",
    "fig = plt.figure(figsize=(10,5))\n",
    "ax = fig.add_subplot(111)\n",
    "plt.plot(n_neighbors, scores)\n",
    "ax.set_xticks(n_neighbors)\n",
    "plt.xlabel('n_neighbors')\n",
    "plt.ylabel('score')\n",
    "plt.title('Зависимость score от n_neighbors')\n",
    "ax.axvline(x=scores.argmax() + 1, ymax=scores.max(), linestyle = '--', color='r')\n",
    "plt.grid()\n",
    "plt.show()\n",
    "\n",
    "BEST_n_neighbor = scores.argmax() + 1\n",
    "print(\"Параметр n_neighbors, при котором выдаётся наилучший score =\", BEST_n_neighbor)"
   ]
  },
  {
   "cell_type": "markdown",
   "metadata": {},
   "source": [
    "**MNIST**"
   ]
  },
  {
   "cell_type": "code",
   "execution_count": 23,
   "metadata": {},
   "outputs": [],
   "source": [
    "mnist = fetch_mldata('MNIST original')"
   ]
  },
  {
   "cell_type": "code",
   "execution_count": 24,
   "metadata": {},
   "outputs": [],
   "source": [
    "X_train, X_test, y_train, y_test = train_test_split(mnist.data, mnist.target, test_size=0.01, stratify=mnist.target)"
   ]
  },
  {
   "cell_type": "code",
   "execution_count": 25,
   "metadata": {},
   "outputs": [],
   "source": [
    "clf = KNeighborsClassifier(n_neighbors=2)\n",
    "my_clf = MyKNeighborsClassifier(n_neighbors=2)"
   ]
  },
  {
   "cell_type": "code",
   "execution_count": 26,
   "metadata": {},
   "outputs": [
    {
     "name": "stdout",
     "output_type": "stream",
     "text": [
      "CPU times: user 49.7 s, sys: 548 ms, total: 50.2 s\n",
      "Wall time: 1min 2s\n"
     ]
    },
    {
     "data": {
      "text/plain": [
       "KNeighborsClassifier(algorithm='auto', leaf_size=30, metric='minkowski',\n",
       "           metric_params=None, n_jobs=1, n_neighbors=2, p=2,\n",
       "           weights='uniform')"
      ]
     },
     "execution_count": 26,
     "metadata": {},
     "output_type": "execute_result"
    }
   ],
   "source": [
    "%time clf.fit(X_train, y_train)"
   ]
  },
  {
   "cell_type": "code",
   "execution_count": 27,
   "metadata": {},
   "outputs": [
    {
     "name": "stdout",
     "output_type": "stream",
     "text": [
      "CPU times: user 9.05 ms, sys: 22 µs, total: 9.07 ms\n",
      "Wall time: 176 ms\n"
     ]
    }
   ],
   "source": [
    "%time my_clf.fit(X_train, y_train)"
   ]
  },
  {
   "cell_type": "code",
   "execution_count": 28,
   "metadata": {},
   "outputs": [
    {
     "name": "stdout",
     "output_type": "stream",
     "text": [
      "CPU times: user 6min 12s, sys: 12.4 ms, total: 6min 12s\n",
      "Wall time: 6min 13s\n"
     ]
    },
    {
     "data": {
      "text/plain": [
       "array([6., 3., 7., 3., 0., 9., 7., 3., 0., 7., 5., 8., 5., 6., 0., 6., 7.,\n",
       "       6., 2., 7., 0., 0., 7., 9., 8., 6., 3., 3., 9., 6., 1., 1., 8., 7.,\n",
       "       5., 6., 3., 7., 9., 1., 2., 7., 5., 9., 7., 8., 2., 4., 2., 6., 1.,\n",
       "       2., 1., 8., 7., 3., 8., 5., 4., 3., 3., 0., 4., 0., 5., 5., 7., 2.,\n",
       "       6., 2., 9., 9., 0., 8., 8., 1., 5., 4., 6., 1., 4., 8., 3., 0., 1.,\n",
       "       1., 6., 1., 9., 3., 2., 6., 2., 8., 4., 4., 0., 7., 9., 1., 5., 7.,\n",
       "       8., 7., 5., 9., 7., 9., 5., 2., 4., 5., 6., 6., 3., 0., 5., 9., 6.,\n",
       "       4., 5., 4., 0., 1., 9., 4., 6., 1., 5., 0., 2., 9., 8., 0., 9., 5.,\n",
       "       1., 3., 2., 6., 4., 1., 6., 1., 3., 6., 7., 8., 7., 4., 0., 9., 7.,\n",
       "       5., 2., 5., 4., 9., 9., 4., 2., 8., 5., 9., 7., 9., 8., 4., 6., 7.,\n",
       "       4., 0., 0., 9., 8., 2., 4., 3., 2., 4., 6., 4., 1., 4., 5., 2., 4.,\n",
       "       0., 4., 0., 7., 7., 8., 6., 4., 1., 1., 8., 8., 6., 9., 4., 4., 0.,\n",
       "       4., 8., 3., 1., 8., 9., 9., 3., 9., 1., 2., 4., 1., 5., 6., 4., 3.,\n",
       "       8., 1., 2., 3., 2., 1., 2., 0., 5., 3., 2., 1., 9., 7., 7., 0., 6.,\n",
       "       2., 0., 1., 7., 8., 3., 9., 2., 5., 4., 4., 8., 0., 1., 0., 2., 8.,\n",
       "       3., 6., 7., 9., 0., 8., 3., 7., 7., 7., 0., 7., 2., 3., 6., 1., 4.,\n",
       "       5., 8., 5., 5., 7., 5., 1., 6., 6., 3., 2., 0., 0., 9., 3., 4., 9.,\n",
       "       3., 2., 2., 6., 7., 2., 4., 0., 3., 7., 7., 1., 5., 8., 3., 7., 8.,\n",
       "       1., 8., 3., 4., 0., 7., 4., 6., 5., 6., 5., 0., 9., 5., 6., 6., 8.,\n",
       "       4., 0., 8., 8., 5., 0., 7., 6., 7., 5., 1., 8., 1., 3., 3., 9., 7.,\n",
       "       1., 0., 1., 3., 4., 7., 8., 6., 1., 1., 8., 9., 4., 4., 2., 2., 6.,\n",
       "       2., 5., 2., 6., 9., 1., 7., 8., 4., 3., 0., 2., 3., 8., 7., 0., 6.,\n",
       "       3., 7., 3., 5., 4., 1., 3., 5., 9., 1., 0., 4., 1., 6., 0., 9., 5.,\n",
       "       2., 9., 7., 3., 2., 9., 1., 3., 4., 6., 1., 4., 7., 7., 1., 6., 6.,\n",
       "       9., 2., 1., 7., 0., 8., 1., 2., 5., 8., 6., 3., 1., 3., 1., 9., 3.,\n",
       "       2., 1., 3., 5., 2., 5., 3., 0., 6., 9., 0., 1., 5., 6., 1., 1., 1.,\n",
       "       2., 4., 3., 1., 3., 8., 1., 6., 3., 8., 4., 0., 0., 0., 7., 2., 1.,\n",
       "       8., 2., 8., 8., 7., 9., 8., 9., 2., 6., 6., 0., 3., 7., 0., 6., 2.,\n",
       "       3., 2., 3., 1., 1., 2., 1., 1., 9., 1., 8., 5., 9., 1., 7., 7., 7.,\n",
       "       4., 2., 6., 6., 7., 2., 6., 1., 0., 1., 9., 6., 4., 6., 6., 2., 4.,\n",
       "       6., 0., 3., 2., 1., 6., 5., 5., 8., 9., 3., 8., 1., 1., 9., 0., 6.,\n",
       "       9., 5., 1., 0., 5., 5., 3., 3., 1., 5., 8., 9., 0., 9., 1., 3., 1.,\n",
       "       7., 0., 7., 9., 5., 2., 9., 5., 4., 0., 3., 2., 1., 8., 9., 0., 9.,\n",
       "       2., 6., 0., 6., 2., 8., 8., 8., 5., 7., 1., 7., 2., 8., 2., 3., 1.,\n",
       "       0., 2., 1., 6., 3., 1., 9., 7., 3., 0., 8., 7., 4., 0., 2., 2., 3.,\n",
       "       7., 0., 6., 0., 6., 3., 0., 6., 4., 6., 5., 0., 5., 1., 1., 4., 4.,\n",
       "       6., 9., 9., 1., 4., 8., 4., 3., 6., 0., 0., 7., 3., 5., 5., 7., 7.,\n",
       "       7., 4., 2., 8., 9., 1., 2., 4., 0., 3., 0., 7., 4., 2., 5., 1., 8.,\n",
       "       4., 1., 9., 3., 2., 4., 1., 7., 7., 5., 4., 5., 0., 6., 9., 5., 3.,\n",
       "       3., 6., 1., 7., 9., 8., 4., 3., 4., 4., 2., 7., 0., 7., 4., 5., 8.,\n",
       "       9., 3., 4., 5., 5., 7., 4., 7., 2., 7., 3., 5., 2., 5., 2., 3., 8.,\n",
       "       9., 0., 4.])"
      ]
     },
     "execution_count": 28,
     "metadata": {},
     "output_type": "execute_result"
    }
   ],
   "source": [
    "%time clf.predict(X_test)"
   ]
  },
  {
   "cell_type": "code",
   "execution_count": 29,
   "metadata": {},
   "outputs": [
    {
     "name": "stdout",
     "output_type": "stream",
     "text": [
      "CPU times: user 16.5 s, sys: 3.01 s, total: 19.5 s\n",
      "Wall time: 43.4 s\n"
     ]
    },
    {
     "data": {
      "text/plain": [
       "array([6, 3, 7, 3, 0, 9, 7, 3, 0, 7, 5, 8, 5, 6, 0, 6, 7, 6, 2, 7, 0, 0,\n",
       "       7, 9, 8, 6, 3, 3, 9, 6, 1, 1, 8, 7, 5, 6, 3, 7, 9, 1, 2, 7, 5, 9,\n",
       "       7, 8, 2, 4, 2, 6, 1, 2, 1, 8, 7, 3, 8, 5, 4, 3, 3, 0, 4, 0, 5, 5,\n",
       "       7, 2, 6, 2, 9, 9, 0, 8, 8, 1, 5, 4, 6, 1, 4, 8, 3, 0, 1, 1, 6, 1,\n",
       "       9, 3, 2, 6, 2, 8, 4, 4, 0, 7, 9, 1, 5, 7, 8, 7, 5, 9, 7, 9, 5, 2,\n",
       "       4, 5, 6, 6, 3, 0, 5, 9, 6, 4, 5, 4, 0, 1, 9, 4, 6, 1, 5, 0, 2, 9,\n",
       "       8, 0, 9, 5, 1, 3, 2, 6, 4, 1, 6, 1, 3, 6, 7, 8, 7, 4, 0, 9, 7, 5,\n",
       "       2, 5, 4, 9, 9, 4, 2, 8, 5, 9, 7, 9, 8, 4, 6, 7, 4, 0, 0, 9, 8, 2,\n",
       "       4, 3, 2, 4, 6, 4, 1, 4, 5, 2, 4, 0, 4, 0, 7, 7, 8, 6, 4, 1, 1, 8,\n",
       "       8, 6, 9, 4, 4, 0, 4, 8, 3, 1, 8, 9, 9, 3, 9, 1, 2, 4, 1, 5, 6, 4,\n",
       "       3, 8, 1, 2, 3, 2, 1, 2, 0, 5, 3, 2, 1, 9, 7, 7, 0, 6, 2, 0, 1, 7,\n",
       "       8, 3, 9, 2, 5, 4, 4, 8, 0, 1, 0, 2, 8, 3, 6, 7, 9, 0, 8, 3, 7, 7,\n",
       "       7, 0, 7, 2, 3, 6, 1, 4, 5, 8, 5, 5, 7, 5, 1, 6, 6, 3, 2, 0, 0, 9,\n",
       "       3, 4, 9, 3, 2, 2, 6, 7, 2, 4, 0, 3, 7, 7, 1, 5, 8, 3, 7, 8, 1, 8,\n",
       "       3, 4, 0, 7, 4, 6, 5, 6, 5, 0, 9, 5, 6, 6, 8, 4, 0, 8, 8, 5, 0, 7,\n",
       "       6, 7, 5, 1, 8, 1, 3, 3, 9, 7, 1, 0, 1, 3, 4, 7, 8, 6, 1, 1, 8, 9,\n",
       "       4, 4, 2, 2, 6, 2, 5, 2, 6, 9, 1, 7, 8, 4, 3, 0, 2, 3, 8, 7, 0, 6,\n",
       "       3, 7, 3, 5, 4, 1, 3, 5, 9, 1, 0, 4, 1, 6, 0, 9, 5, 2, 9, 7, 3, 2,\n",
       "       9, 1, 3, 4, 6, 1, 4, 7, 7, 1, 6, 6, 9, 2, 1, 7, 0, 8, 1, 2, 5, 8,\n",
       "       6, 3, 1, 3, 1, 9, 3, 2, 1, 3, 5, 2, 5, 3, 0, 6, 9, 0, 1, 5, 6, 1,\n",
       "       1, 1, 2, 4, 3, 1, 3, 8, 1, 6, 3, 8, 4, 0, 0, 0, 7, 2, 1, 8, 2, 8,\n",
       "       8, 7, 9, 8, 9, 2, 6, 6, 0, 3, 7, 0, 6, 2, 3, 2, 3, 1, 1, 2, 1, 1,\n",
       "       9, 1, 8, 5, 9, 1, 7, 7, 7, 4, 2, 6, 6, 7, 2, 6, 1, 0, 1, 9, 6, 4,\n",
       "       6, 6, 2, 4, 6, 0, 3, 2, 1, 6, 5, 5, 8, 9, 3, 8, 1, 1, 9, 0, 6, 9,\n",
       "       5, 1, 0, 5, 5, 3, 3, 1, 5, 8, 9, 0, 9, 1, 3, 1, 7, 0, 7, 9, 5, 2,\n",
       "       9, 5, 4, 0, 3, 2, 1, 8, 9, 0, 9, 2, 6, 0, 6, 2, 8, 8, 8, 5, 7, 1,\n",
       "       7, 2, 8, 2, 3, 1, 0, 2, 1, 6, 3, 1, 9, 7, 3, 0, 8, 7, 4, 0, 2, 2,\n",
       "       3, 7, 0, 6, 0, 6, 3, 0, 6, 4, 6, 5, 0, 5, 1, 1, 4, 4, 6, 9, 9, 1,\n",
       "       4, 8, 4, 3, 6, 0, 0, 7, 3, 5, 5, 7, 7, 7, 4, 2, 8, 9, 1, 2, 4, 0,\n",
       "       3, 0, 7, 4, 2, 5, 1, 8, 4, 1, 9, 3, 2, 4, 1, 7, 7, 5, 4, 5, 0, 6,\n",
       "       9, 5, 3, 3, 6, 1, 7, 9, 8, 4, 3, 4, 4, 2, 7, 0, 7, 4, 5, 8, 9, 3,\n",
       "       4, 5, 5, 7, 4, 7, 2, 7, 3, 5, 2, 5, 2, 3, 8, 9, 0, 4])"
      ]
     },
     "execution_count": 29,
     "metadata": {},
     "output_type": "execute_result"
    }
   ],
   "source": [
    "%time my_clf.predict(X_test)"
   ]
  },
  {
   "cell_type": "code",
   "execution_count": 30,
   "metadata": {},
   "outputs": [
    {
     "name": "stdout",
     "output_type": "stream",
     "text": [
      "CPU times: user 6min 18s, sys: 114 ms, total: 6min 18s\n",
      "Wall time: 6min 19s\n"
     ]
    },
    {
     "data": {
      "text/plain": [
       "array([[0., 0., 0., ..., 0., 0., 0.],\n",
       "       [0., 0., 0., ..., 0., 0., 0.],\n",
       "       [0., 0., 0., ..., 1., 0., 0.],\n",
       "       ...,\n",
       "       [0., 0., 0., ..., 0., 0., 1.],\n",
       "       [1., 0., 0., ..., 0., 0., 0.],\n",
       "       [0., 0., 0., ..., 0., 0., 0.]])"
      ]
     },
     "execution_count": 30,
     "metadata": {},
     "output_type": "execute_result"
    }
   ],
   "source": [
    "%time clf.predict_proba(X_test)"
   ]
  },
  {
   "cell_type": "code",
   "execution_count": 31,
   "metadata": {},
   "outputs": [
    {
     "name": "stdout",
     "output_type": "stream",
     "text": [
      "CPU times: user 15.8 s, sys: 1.92 s, total: 17.7 s\n",
      "Wall time: 11.2 s\n"
     ]
    },
    {
     "data": {
      "text/plain": [
       "array([[0., 0., 0., ..., 0., 0., 0.],\n",
       "       [0., 0., 0., ..., 0., 0., 0.],\n",
       "       [0., 0., 0., ..., 1., 0., 0.],\n",
       "       ...,\n",
       "       [0., 0., 0., ..., 0., 0., 1.],\n",
       "       [1., 0., 0., ..., 0., 0., 0.],\n",
       "       [0., 0., 0., ..., 0., 0., 0.]])"
      ]
     },
     "execution_count": 31,
     "metadata": {},
     "output_type": "execute_result"
    }
   ],
   "source": [
    "%time my_clf.predict_proba(X_test)"
   ]
  },
  {
   "cell_type": "code",
   "execution_count": 32,
   "metadata": {},
   "outputs": [
    {
     "data": {
      "text/plain": [
       "0.9685714285714285"
      ]
     },
     "execution_count": 32,
     "metadata": {},
     "output_type": "execute_result"
    }
   ],
   "source": [
    "clf.score(X_test, y_test)"
   ]
  },
  {
   "cell_type": "code",
   "execution_count": 33,
   "metadata": {},
   "outputs": [
    {
     "data": {
      "text/plain": [
       "0.9685714285714285"
      ]
     },
     "execution_count": 33,
     "metadata": {},
     "output_type": "execute_result"
    }
   ],
   "source": [
    "my_clf.score(X_test, y_test)"
   ]
  },
  {
   "cell_type": "markdown",
   "metadata": {},
   "source": [
    "Задание 4"
   ]
  },
  {
   "cell_type": "code",
   "execution_count": 34,
   "metadata": {},
   "outputs": [],
   "source": [
    "clf = KNeighborsClassifier(n_neighbors=BEST_n_neighbor, algorithm='kd_tree')\n",
    "my_clf = MyKNeighborsClassifier(n_neighbors=BEST_n_neighbor, algorithm='kd_tree')"
   ]
  },
  {
   "cell_type": "code",
   "execution_count": 35,
   "metadata": {},
   "outputs": [],
   "source": [
    "X_train, X_test, y_train, y_test = train_test_split(mnist.data, mnist.target, test_size=0.01, stratify=mnist.target)"
   ]
  },
  {
   "cell_type": "code",
   "execution_count": 36,
   "metadata": {},
   "outputs": [
    {
     "name": "stdout",
     "output_type": "stream",
     "text": [
      "CPU times: user 2min 7s, sys: 1.15 s, total: 2min 8s\n",
      "Wall time: 2min 7s\n"
     ]
    },
    {
     "data": {
      "text/plain": [
       "KNeighborsClassifier(algorithm='kd_tree', leaf_size=30, metric='minkowski',\n",
       "           metric_params=None, n_jobs=1, n_neighbors=13, p=2,\n",
       "           weights='uniform')"
      ]
     },
     "execution_count": 36,
     "metadata": {},
     "output_type": "execute_result"
    }
   ],
   "source": [
    "%time clf.fit(X_train, y_train)"
   ]
  },
  {
   "cell_type": "code",
   "execution_count": 37,
   "metadata": {},
   "outputs": [
    {
     "name": "stdout",
     "output_type": "stream",
     "text": [
      "CPU times: user 2min 6s, sys: 1.25 s, total: 2min 7s\n",
      "Wall time: 2min 6s\n"
     ]
    }
   ],
   "source": [
    "%time my_clf.fit(X_train, y_train)"
   ]
  },
  {
   "cell_type": "code",
   "execution_count": 38,
   "metadata": {},
   "outputs": [
    {
     "name": "stdout",
     "output_type": "stream",
     "text": [
      "CPU times: user 3min 28s, sys: 39.6 ms, total: 3min 28s\n",
      "Wall time: 3min 28s\n"
     ]
    },
    {
     "data": {
      "text/plain": [
       "array([3., 5., 6., 6., 4., 8., 2., 5., 5., 1., 0., 7., 1., 6., 0., 9., 3.,\n",
       "       5., 0., 7., 3., 4., 0., 7., 5., 4., 5., 9., 4., 0., 7., 2., 6., 3.,\n",
       "       6., 7., 6., 7., 7., 3., 9., 1., 4., 0., 8., 9., 1., 4., 7., 5., 1.,\n",
       "       6., 1., 6., 1., 9., 4., 0., 2., 6., 1., 2., 0., 4., 9., 3., 1., 6.,\n",
       "       1., 1., 2., 3., 2., 1., 6., 2., 8., 5., 4., 5., 2., 9., 4., 5., 0.,\n",
       "       4., 9., 5., 4., 1., 8., 9., 7., 3., 5., 6., 1., 5., 7., 1., 3., 0.,\n",
       "       4., 4., 8., 4., 7., 6., 1., 0., 8., 3., 0., 1., 9., 9., 2., 8., 6.,\n",
       "       7., 1., 3., 1., 5., 9., 2., 1., 5., 5., 7., 6., 8., 1., 9., 0., 3.,\n",
       "       7., 8., 9., 4., 9., 3., 3., 6., 1., 0., 1., 1., 3., 0., 2., 4., 3.,\n",
       "       7., 9., 3., 2., 1., 5., 7., 3., 2., 9., 7., 9., 6., 3., 1., 9., 9.,\n",
       "       1., 9., 5., 0., 3., 5., 0., 6., 9., 4., 2., 0., 9., 6., 3., 9., 9.,\n",
       "       0., 9., 2., 6., 8., 2., 4., 8., 3., 5., 6., 5., 7., 9., 9., 4., 2.,\n",
       "       7., 0., 0., 3., 4., 8., 4., 4., 5., 2., 1., 5., 7., 1., 5., 8., 1.,\n",
       "       1., 3., 8., 3., 2., 5., 5., 2., 7., 1., 9., 1., 9., 4., 5., 3., 0.,\n",
       "       4., 9., 9., 8., 0., 6., 7., 6., 4., 7., 0., 8., 0., 3., 5., 7., 7.,\n",
       "       0., 8., 4., 9., 7., 2., 0., 8., 6., 2., 6., 6., 7., 9., 7., 0., 3.,\n",
       "       0., 2., 5., 4., 2., 6., 9., 4., 7., 4., 1., 1., 7., 7., 0., 8., 7.,\n",
       "       0., 8., 0., 9., 9., 6., 4., 4., 6., 9., 6., 2., 8., 1., 7., 2., 4.,\n",
       "       8., 0., 1., 2., 7., 3., 8., 0., 1., 5., 0., 6., 2., 6., 7., 0., 4.,\n",
       "       2., 0., 6., 8., 4., 3., 0., 6., 6., 5., 1., 4., 7., 1., 9., 4., 1.,\n",
       "       8., 3., 1., 0., 7., 5., 8., 5., 2., 8., 5., 0., 9., 6., 0., 7., 3.,\n",
       "       6., 2., 2., 7., 1., 2., 1., 7., 1., 7., 1., 9., 8., 7., 0., 8., 6.,\n",
       "       8., 1., 5., 4., 3., 5., 6., 2., 7., 3., 4., 0., 1., 0., 0., 3., 5.,\n",
       "       8., 7., 0., 1., 6., 3., 8., 3., 2., 1., 5., 7., 3., 3., 5., 4., 2.,\n",
       "       4., 3., 6., 3., 0., 2., 2., 1., 1., 7., 6., 4., 2., 9., 0., 5., 4.,\n",
       "       6., 8., 8., 0., 8., 3., 6., 4., 3., 6., 5., 0., 9., 4., 5., 7., 3.,\n",
       "       1., 7., 8., 9., 9., 6., 9., 4., 7., 2., 8., 5., 8., 3., 7., 9., 1.,\n",
       "       8., 3., 0., 5., 3., 1., 0., 1., 6., 7., 2., 3., 8., 5., 4., 6., 4.,\n",
       "       0., 1., 9., 9., 7., 5., 1., 3., 2., 6., 8., 7., 7., 8., 2., 4., 1.,\n",
       "       5., 7., 2., 1., 4., 8., 1., 0., 6., 2., 2., 1., 9., 8., 5., 2., 6.,\n",
       "       7., 7., 4., 4., 9., 9., 6., 4., 3., 3., 1., 0., 7., 3., 4., 6., 4.,\n",
       "       1., 7., 3., 8., 9., 3., 9., 4., 8., 1., 7., 0., 0., 9., 8., 4., 9.,\n",
       "       0., 4., 4., 2., 7., 2., 8., 3., 7., 1., 1., 7., 7., 5., 7., 7., 8.,\n",
       "       1., 2., 6., 1., 0., 5., 0., 7., 3., 4., 6., 0., 1., 3., 3., 5., 3.,\n",
       "       5., 5., 6., 7., 5., 6., 1., 1., 6., 7., 9., 6., 0., 0., 4., 9., 8.,\n",
       "       8., 2., 0., 7., 0., 7., 1., 8., 4., 7., 6., 2., 2., 1., 5., 4., 9.,\n",
       "       0., 0., 3., 7., 3., 0., 1., 8., 4., 3., 1., 6., 9., 5., 1., 3., 4.,\n",
       "       1., 9., 7., 8., 1., 1., 2., 8., 8., 2., 9., 8., 3., 4., 0., 6., 2.,\n",
       "       4., 6., 7., 6., 7., 1., 9., 1., 2., 2., 4., 2., 6., 4., 5., 8., 9.,\n",
       "       7., 9., 1., 6., 0., 7., 2., 1., 7., 6., 2., 5., 9., 1., 5., 0., 2.,\n",
       "       7., 8., 4., 0., 3., 7., 2., 8., 3., 3., 3., 3., 2., 1., 5., 6., 6.,\n",
       "       8., 8., 1.])"
      ]
     },
     "execution_count": 38,
     "metadata": {},
     "output_type": "execute_result"
    }
   ],
   "source": [
    "%time clf.predict(X_test)"
   ]
  },
  {
   "cell_type": "code",
   "execution_count": 39,
   "metadata": {},
   "outputs": [
    {
     "name": "stdout",
     "output_type": "stream",
     "text": [
      "CPU times: user 1min 21s, sys: 0 ns, total: 1min 21s\n",
      "Wall time: 1min 21s\n"
     ]
    },
    {
     "data": {
      "text/plain": [
       "array([3, 5, 6, 6, 4, 8, 2, 5, 5, 1, 0, 7, 1, 6, 0, 9, 3, 5, 0, 7, 3, 4,\n",
       "       0, 7, 5, 4, 5, 9, 4, 0, 7, 2, 6, 3, 6, 7, 6, 7, 7, 3, 9, 1, 4, 0,\n",
       "       8, 9, 1, 4, 7, 5, 1, 6, 1, 6, 1, 9, 4, 0, 2, 6, 1, 2, 0, 4, 9, 3,\n",
       "       1, 6, 1, 1, 2, 3, 2, 1, 6, 2, 8, 5, 4, 5, 2, 9, 4, 5, 0, 4, 9, 5,\n",
       "       4, 1, 8, 9, 7, 3, 5, 6, 1, 5, 7, 1, 3, 0, 4, 4, 8, 4, 7, 6, 1, 0,\n",
       "       8, 3, 0, 1, 9, 9, 2, 8, 6, 7, 1, 3, 1, 5, 9, 2, 1, 5, 5, 7, 6, 8,\n",
       "       1, 9, 0, 3, 7, 8, 9, 4, 9, 3, 3, 6, 1, 0, 1, 1, 3, 0, 2, 4, 3, 7,\n",
       "       9, 3, 2, 1, 5, 7, 3, 2, 9, 7, 9, 6, 3, 1, 9, 9, 1, 9, 5, 0, 3, 5,\n",
       "       0, 6, 9, 4, 2, 0, 9, 6, 3, 9, 9, 0, 9, 2, 6, 8, 2, 4, 8, 3, 5, 6,\n",
       "       5, 7, 9, 9, 4, 2, 7, 0, 0, 3, 4, 8, 4, 4, 5, 2, 1, 5, 7, 1, 5, 8,\n",
       "       1, 1, 3, 8, 3, 2, 5, 5, 2, 7, 1, 9, 1, 9, 4, 5, 3, 0, 4, 9, 9, 8,\n",
       "       0, 6, 7, 6, 4, 7, 0, 8, 0, 3, 5, 7, 7, 0, 8, 4, 9, 7, 2, 0, 8, 6,\n",
       "       2, 6, 6, 7, 9, 7, 0, 3, 0, 2, 5, 4, 2, 6, 9, 4, 7, 4, 1, 1, 7, 7,\n",
       "       0, 8, 7, 0, 8, 0, 9, 9, 6, 4, 4, 6, 9, 6, 2, 8, 1, 7, 2, 4, 8, 0,\n",
       "       1, 2, 7, 3, 8, 0, 1, 5, 0, 6, 2, 6, 7, 0, 4, 2, 0, 6, 8, 4, 3, 0,\n",
       "       6, 6, 5, 1, 4, 7, 1, 9, 4, 1, 8, 3, 1, 0, 7, 5, 8, 5, 2, 8, 5, 0,\n",
       "       9, 6, 0, 7, 3, 6, 2, 2, 7, 1, 2, 1, 7, 1, 7, 1, 9, 8, 7, 0, 8, 6,\n",
       "       8, 1, 5, 4, 3, 5, 6, 2, 7, 3, 4, 0, 1, 0, 0, 3, 5, 8, 7, 0, 1, 6,\n",
       "       3, 8, 3, 2, 1, 5, 7, 3, 3, 5, 4, 2, 4, 3, 6, 3, 0, 2, 2, 1, 1, 7,\n",
       "       6, 4, 2, 9, 0, 5, 4, 6, 8, 8, 0, 8, 3, 6, 4, 3, 6, 5, 0, 9, 4, 5,\n",
       "       7, 3, 1, 7, 8, 9, 9, 6, 9, 4, 7, 2, 8, 5, 8, 3, 7, 9, 1, 8, 3, 0,\n",
       "       5, 3, 1, 0, 1, 6, 7, 2, 3, 8, 5, 4, 6, 4, 0, 1, 9, 9, 7, 5, 1, 3,\n",
       "       2, 6, 8, 7, 7, 8, 2, 4, 1, 5, 7, 2, 1, 4, 8, 1, 0, 6, 2, 2, 1, 9,\n",
       "       8, 5, 2, 6, 7, 7, 4, 4, 9, 9, 6, 4, 3, 3, 1, 0, 7, 3, 4, 6, 4, 1,\n",
       "       7, 3, 8, 9, 3, 9, 4, 8, 1, 7, 0, 0, 9, 8, 4, 9, 0, 4, 4, 2, 7, 2,\n",
       "       8, 3, 7, 1, 1, 7, 7, 5, 7, 7, 8, 1, 2, 6, 1, 0, 5, 0, 7, 3, 4, 6,\n",
       "       0, 1, 3, 3, 5, 3, 5, 5, 6, 7, 5, 6, 1, 1, 6, 7, 9, 6, 0, 0, 4, 9,\n",
       "       8, 8, 2, 0, 7, 0, 7, 1, 8, 4, 7, 6, 2, 2, 1, 5, 4, 9, 0, 0, 3, 7,\n",
       "       3, 0, 1, 8, 4, 3, 1, 6, 9, 5, 1, 3, 4, 1, 9, 7, 8, 1, 1, 2, 8, 8,\n",
       "       2, 9, 8, 3, 4, 0, 6, 2, 4, 6, 7, 6, 7, 1, 9, 1, 2, 2, 4, 2, 6, 4,\n",
       "       5, 8, 9, 7, 9, 1, 6, 0, 7, 2, 1, 7, 6, 2, 5, 9, 1, 5, 0, 2, 7, 8,\n",
       "       4, 0, 3, 7, 2, 8, 3, 3, 3, 3, 2, 1, 5, 6, 6, 8, 8, 1])"
      ]
     },
     "execution_count": 39,
     "metadata": {},
     "output_type": "execute_result"
    }
   ],
   "source": [
    "%time my_clf.predict(X_test)"
   ]
  },
  {
   "cell_type": "code",
   "execution_count": 40,
   "metadata": {},
   "outputs": [
    {
     "name": "stdout",
     "output_type": "stream",
     "text": [
      "CPU times: user 1min 40s, sys: 0 ns, total: 1min 40s\n",
      "Wall time: 1min 40s\n"
     ]
    },
    {
     "data": {
      "text/plain": [
       "array([[0., 0., 0., ..., 0., 0., 0.],\n",
       "       [0., 0., 0., ..., 0., 0., 0.],\n",
       "       [0., 0., 0., ..., 0., 0., 0.],\n",
       "       ...,\n",
       "       [0., 0., 0., ..., 0., 1., 0.],\n",
       "       [0., 0., 0., ..., 0., 1., 0.],\n",
       "       [0., 1., 0., ..., 0., 0., 0.]])"
      ]
     },
     "execution_count": 40,
     "metadata": {},
     "output_type": "execute_result"
    }
   ],
   "source": [
    "%time clf.predict_proba(X_test)"
   ]
  },
  {
   "cell_type": "code",
   "execution_count": 41,
   "metadata": {},
   "outputs": [
    {
     "name": "stdout",
     "output_type": "stream",
     "text": [
      "CPU times: user 1min 21s, sys: 0 ns, total: 1min 21s\n",
      "Wall time: 1min 21s\n"
     ]
    },
    {
     "data": {
      "text/plain": [
       "array([[0., 0., 0., ..., 0., 0., 0.],\n",
       "       [0., 0., 0., ..., 0., 0., 0.],\n",
       "       [0., 0., 0., ..., 0., 0., 0.],\n",
       "       ...,\n",
       "       [0., 0., 0., ..., 0., 1., 0.],\n",
       "       [0., 0., 0., ..., 0., 1., 0.],\n",
       "       [0., 1., 0., ..., 0., 0., 0.]])"
      ]
     },
     "execution_count": 41,
     "metadata": {},
     "output_type": "execute_result"
    }
   ],
   "source": [
    "%time my_clf.predict_proba(X_test)"
   ]
  },
  {
   "cell_type": "code",
   "execution_count": 42,
   "metadata": {},
   "outputs": [
    {
     "data": {
      "text/plain": [
       "0.9514285714285714"
      ]
     },
     "execution_count": 42,
     "metadata": {},
     "output_type": "execute_result"
    }
   ],
   "source": [
    "clf.score(X_test, y_test)"
   ]
  },
  {
   "cell_type": "code",
   "execution_count": 43,
   "metadata": {},
   "outputs": [
    {
     "data": {
      "text/plain": [
       "0.9514285714285714"
      ]
     },
     "execution_count": 43,
     "metadata": {},
     "output_type": "execute_result"
    }
   ],
   "source": [
    "my_clf.score(X_test, y_test)"
   ]
  },
  {
   "cell_type": "markdown",
   "metadata": {},
   "source": [
    "Задание 5"
   ]
  },
  {
   "cell_type": "code",
   "execution_count": 44,
   "metadata": {},
   "outputs": [
    {
     "data": {
      "text/plain": [
       "'\\nMixin(класс примесь) для обучения моделей с учителем, использующих метод k ближайших соседей. Реализует метод fit.\\n'"
      ]
     },
     "execution_count": 44,
     "metadata": {},
     "output_type": "execute_result"
    }
   ],
   "source": [
    "#seaborn\n",
    "\"\"\"\n",
    "Seaborn - это библиотека визуализации данных Python на основе matplotlib.\n",
    "\"\"\"\n",
    "# matplotlib\n",
    "\"\"\"\n",
    "matplotlib - это библиотека визуализации данных Python. Дает широкие возможности для визуализации 2D, 3D графики.\n",
    "\"\"\"\n",
    "# train_test_split\n",
    "\"\"\"\n",
    "train_test_split - это функция, которая разбивает исходный датасет(массив или матрица) \n",
    "на тестовую и тренировочную части.\n",
    "\"\"\"\n",
    "# Pipelin%load_ext e (from sklearn.pipeline import Pipeline)\n",
    "\"\"\"\n",
    "sklearn.pipeline.Pipeline - это класс \"Конвеер\". Он позволяет объединить несколько моделей в одну. Промежуточные\n",
    "модели должны реализовать методы fit и transform. Класс предоставляет удобный интерфейс для работы с несколькими\n",
    "последовательно приняемыми моделями.\n",
    "\"\"\"\n",
    "# StandardScaler (from sklearn.preprocessing import StandardScaler)\n",
    "\"\"\"\n",
    "StandardScaler - класс. Предоставляет возможность преобразования данных, а именно преобразует их так, что\n",
    "среднее будет равно 0, а  стандартное отклонение 1. Нужен т.к. многие алгоритмы машинного обучения предполагают\n",
    "стандартизованные таким образом данные.\n",
    "\"\"\"\n",
    "# ClassifierMixin\n",
    "\"\"\"\n",
    "Mixin(класс примесь) для всех классификаторов в scikit-learn. В нем содержится метод scrore, для оценки\n",
    "точности придсказания. Этот метод есть во всех классификаторах.\n",
    "\"\"\"\n",
    "# NeighborsBase\n",
    "\"\"\"\n",
    "Базовый класс для всех моделей использующих метод k ближайших соседей.\n",
    "\"\"\"\n",
    "# KNeighborsMixin\n",
    "\"\"\"\n",
    "Mixin(класс примесь) для поиска k-ближайших соседей. Реализует метод kneighbors, который ищет k ближайших соседей.\n",
    "Метод возвращает индексы k ближайших соседей(в тренировочном датасете) и расстояния до k ближайших соседей.\n",
    "\"\"\"\n",
    "# SupervisedIntegerMixin\n",
    "\"\"\"\n",
    "Mixin(класс примесь) для обучения моделей с учителем, использующих метод k ближайших соседей. Реализует метод fit.\n",
    "\"\"\"\n"
   ]
  }
 ],
 "metadata": {
  "kernelspec": {
   "display_name": "Python 3",
   "language": "python",
   "name": "python3"
  },
  "language_info": {
   "codemirror_mode": {
    "name": "ipython",
    "version": 3
   },
   "file_extension": ".py",
   "mimetype": "text/x-python",
   "name": "python",
   "nbconvert_exporter": "python",
   "pygments_lexer": "ipython3",
   "version": "3.6.5"
  }
 },
 "nbformat": 4,
 "nbformat_minor": 2
}
